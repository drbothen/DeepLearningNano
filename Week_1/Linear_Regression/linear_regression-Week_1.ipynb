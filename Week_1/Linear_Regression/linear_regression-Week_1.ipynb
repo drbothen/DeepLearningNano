{
 "cells": [
  {
   "cell_type": "markdown",
   "metadata": {},
   "source": [
    "# About the Project (Linear Regression)\n",
    "## BMI to Life Expectancy\n",
    "### Single predictor variable\n",
    "\n",
    "In this section, you'll use linear regression to make prediction on life expectancy from [body mass index (BMI)](https://en.wikipedia.org/wiki/Body_mass_index) from birth."
   ]
  },
  {
   "cell_type": "code",
   "execution_count": 28,
   "metadata": {
    "collapsed": false
   },
   "outputs": [],
   "source": [
    "# import statements\n",
    "import pandas as pd\n",
    "from sklearn.linear_model import LinearRegression\n",
    "import matplotlib.pyplot as plt"
   ]
  },
  {
   "cell_type": "markdown",
   "metadata": {},
   "source": [
    "### Imports\n",
    "In the above lines of code, we have imported pandas to read in the dataset.\n",
    "we import the LinearRegression model from sklearn because thats the method of prediction we are using.\n",
    "Lastly, we import matplotlib to visualise the data."
   ]
  },
  {
   "cell_type": "code",
   "execution_count": 29,
   "metadata": {
    "collapsed": false
   },
   "outputs": [
    {
     "data": {
      "text/plain": [
       "LinearRegression(copy_X=True, fit_intercept=True, n_jobs=1, normalize=False)"
      ]
     },
     "execution_count": 29,
     "metadata": {},
     "output_type": "execute_result"
    }
   ],
   "source": [
    "# Assign the dataframe to bmi_life_data var.\n",
    "bmi_life_data = pd.read_csv(\"bmi_and_life_expectancy.csv\")\n",
    "\n",
    "# Make and fit the linear regression model\n",
    "#Fit the model and Assign it to bmi_life_model\n",
    "bmi_life_model = LinearRegression()\n",
    "bmi_life_model.fit(bmi_life_data[['BMI']], bmi_life_data[['Life expectancy']])"
   ]
  },
  {
   "cell_type": "markdown",
   "metadata": {},
   "source": [
    "### Code\n",
    "We read in bmi_and_life_expectancy.csv (conatins our dataset) using\n",
    "\n",
    "```python\n",
    "bmi_life_data = pd.read_csv(\"bmi_and_life_expectancy.csv\")\n",
    "```\n",
    "\n",
    "We then create a Linear Regression model and fit our data to the model\n",
    "We assign BMI to \"X\" and Life expectancy to \"Y\"\n",
    "\n",
    "Because we want to be able to predict life expantancy based on BMI, BMI is our training data, so it becomes X and our Target data is life expectancy so it becomes Y.\n",
    "\n",
    "Linear Regression model fit function works like the following\n",
    "model.fit(X(training data), Y(target data))\n",
    "\n",
    "```python\n",
    "bmi_life_model = LinearRegression()\n",
    "bmi_life_model.fit(bmi_life_data[['BMI']], bmi_life_data[['Life expectancy']])\n",
    "```"
   ]
  },
  {
   "cell_type": "code",
   "execution_count": 30,
   "metadata": {
    "collapsed": false
   },
   "outputs": [
    {
     "data": {
      "image/png": "[encoded data removed]",
      "text/plain": [
       "<matplotlib.figure.Figure at 0x25318521cc0>"
      ]
     },
     "metadata": {},
     "output_type": "display_data"
    }
   ],
   "source": [
    "# Visualise Data\n",
    "plt.xlabel('BMI')\n",
    "plt.ylabel('Life expectancy')\n",
    "plt.scatter(bmi_life_data[['BMI']], bmi_life_data[['Life expectancy']])\n",
    "plt.plot(bmi_life_data[['BMI']], bmi_life_model.predict(bmi_life_data[['BMI']]))\n",
    "plt.show()"
   ]
  },
  {
   "cell_type": "markdown",
   "metadata": {},
   "source": [
    "### Visualise Data\n",
    "In the example above, we visualise the data by creating a scatter plot of all our data points and then create a line of best fit\n",
    "\n",
    "The equation for the line is the following:\n",
    "$y=mx+b$ - single predictor variable"
   ]
  },
  {
   "cell_type": "code",
   "execution_count": 31,
   "metadata": {
    "collapsed": false
   },
   "outputs": [
    {
     "name": "stdout",
     "output_type": "stream",
     "text": [
      "[[ 60.31564716]]\n"
     ]
    }
   ],
   "source": [
    "# Make a prediction using the model. BMI value of 21.07931\n",
    "laos_life_exp = bmi_life_model.predict(21.07931)\n",
    "print(laos_life_exp)"
   ]
  },
  {
   "cell_type": "markdown",
   "metadata": {},
   "source": [
    "### Conclusion\n",
    "lastly we made a prediction using our model with a BMI value of 21.07931.\n",
    "\n",
    "Our model should of predicted 60.31564716\n",
    "\n",
    "\n",
    "### Notes\n",
    "linear regression on works when the data is linear. Also outliers can have a dramatic effect. what we are looking for is a model that fits most of the data, most of the time."
   ]
  },
  {
   "cell_type": "markdown",
   "metadata": {},
   "source": [
    "#### References and support\n",
    "\n",
    "[Linear Regression - scikit-learn](ttp://scikit-learn.org/stable/modules/generated/sklearn.linear_model.LinearRegression.html)\n",
    "\n",
    "[matplotlib - pyplot](http://matplotlib.org/users/pyplot_tutorial.html)"
   ]
  },
  {
   "cell_type": "markdown",
   "metadata": {},
   "source": [
    "## Boston House Prices\n",
    "### multiple predictor variables\n",
    "\n",
    "in this section, we will use linear regression to predict the cost of a house based on 12 predicators"
   ]
  },
  {
   "cell_type": "code",
   "execution_count": 33,
   "metadata": {
    "collapsed": false
   },
   "outputs": [],
   "source": [
    "# Import Statements\n",
    "from sklearn.linear_model import LinearRegression\n",
    "from sklearn.datasets import load_boston\n",
    "import matplotlib.pyplot as plt"
   ]
  },
  {
   "cell_type": "markdown",
   "metadata": {},
   "source": [
    "### Imports\n",
    "Here we are importing the linear model from scikit-learn. We are also "
   ]
  },
  {
   "cell_type": "code",
   "execution_count": 34,
   "metadata": {
    "collapsed": false
   },
   "outputs": [
    {
     "data": {
      "text/plain": [
       "LinearRegression(copy_X=True, fit_intercept=True, n_jobs=1, normalize=False)"
      ]
     },
     "execution_count": 34,
     "metadata": {},
     "output_type": "execute_result"
    }
   ],
   "source": [
    "# Load the data from the the boston house-prices dataset \n",
    "boston_data = load_boston()\n",
    "x = boston_data['data']\n",
    "y = boston_data['target']\n",
    "\n",
    "# Make and fit the linear regression model\n",
    "# Fit the model and Assign it to the model variable\n",
    "model = LinearRegression()\n",
    "model.fit(x, y)"
   ]
  },
  {
   "cell_type": "markdown",
   "metadata": {},
   "source": [
    "### Code\n",
    "We read in the boston housing data (conatins our dataset) using\n",
    "\n",
    "```python\n",
    "boston_data = load_boston()\n",
    "```\n",
    "\n",
    "We then create a Linear Regression model and fit our data to the model\n",
    "We assign boston_data['data'] to \"X\" and boston_data['target'] to \"Y\"\n",
    "\n",
    "Linear Regression model fit function works like the following\n",
    "model.fit(X(training data), Y(target data))\n",
    "\n",
    "```python\n",
    "model = LinearRegression()\n",
    "model.fit(x, y)\n",
    "```\n",
    "\n",
    "The equation for the line is the following:\n",
    "$y=m_1x_1+m_2x_2+m_3x_3+\\cdots+m_nx_n+b$ - multi predictor variable\n",
    "\n",
    "Or it can be writen like the following\n",
    "$$\n",
    "y = (\\Sigma_{i=1}^n mx_i) + b\n",
    "$$"
   ]
  },
  {
   "cell_type": "code",
   "execution_count": 38,
   "metadata": {
    "collapsed": false
   },
   "outputs": [
    {
     "name": "stdout",
     "output_type": "stream",
     "text": [
      "[ 23.68420569]\n"
     ]
    }
   ],
   "source": [
    "# Make a prediction using the model\n",
    "sample_house = [[2.29690000e-01, 0.00000000e+00, 1.05900000e+01, 0.00000000e+00, 4.89000000e-01,\n",
    "                6.32600000e+00, 5.25000000e+01, 4.35490000e+00, 4.00000000e+00, 2.77000000e+02,\n",
    "                1.86000000e+01, 3.94870000e+02, 1.09700000e+01]]\n",
    "# TODO: Predict housing price for the sample_house\n",
    "prediction = model.predict(sample_house)\n",
    "print(prediction)"
   ]
  },
  {
   "cell_type": "markdown",
   "metadata": {},
   "source": [
    "### Conclusion\n",
    "lastly we made a prediction using our model with a sample house:\n",
    "```python\n",
    "sample_house = [[2.29690000e-01, 0.00000000e+00, 1.05900000e+01, 0.00000000e+00, 4.89000000e-01,\n",
    "                6.32600000e+00, 5.25000000e+01, 4.35490000e+00, 4.00000000e+00, 2.77000000e+02,\n",
    "                1.86000000e+01, 3.94870000e+02, 1.09700000e+01]]\n",
    "```\n",
    "Our model should of predicted 23.68420569"
   ]
  },
  {
   "cell_type": "markdown",
   "metadata": {},
   "source": [
    "#### Reference\n",
    "[$y=mx+b$ - Explanation](http://www.math.com/school/subject2/lessons/S2U4L2GL.html)"
   ]
  },
  {
   "cell_type": "markdown",
   "metadata": {},
   "source": [
    "### Hours of Study vs Test Scores\n",
    "#### Linear Regression and gradient descent\n",
    "\n",
    "x = the amount of hours studied and y = the test scores\n",
    "\n",
    "The equation for compute_error_for_line_given_points (computing the error of a line) is:\n",
    "\n",
    "$$\n",
    "Error_{(m,b)} =  \\frac 1N \\Sigma_{i=1}^n (y_i - (mx_i + b))^2\n",
    "$$\n",
    "\n",
    "so given m (slop) and b (Y intercept) compute the error of a line\n",
    "$$\n",
    "Error_{(m,b)}\n",
    "$$\n",
    "\n",
    "Sigma notation Calculating the sum of a set of values. i is the starting point, N is for every set (points).  \n",
    "$$\n",
    "\\Sigma_{i=1}^N\n",
    "$$\n",
    "\n",
    "We are calulating the difference in y values (essential y - y squared)\n",
    "$$\n",
    "(y_i - (mx_i + b))^2\n",
    "$$\n",
    "\n",
    "Calculate the average\n",
    "$$\n",
    "\\frac 1N\n",
    "$$\n",
    "\n",
    "The equations for calculating partial derivatives for m and b\n",
    "\n",
    "for m: $\\frac \\partial {\\partial m} = \\frac 2N \\Sigma_{i=1}^N - x_i(y_i(mx_i + b))$\n",
    "\n",
    "for b: $\\frac \\partial {\\partial b} = \\frac 2N \\Sigma_{i=1}^N - (y_i(mx_i + b))$\n",
    "\n",
    "The partial derivative\n",
    "\n",
    "for m: $\\frac \\partial {\\partial m}$\n",
    "\n",
    "for b: $\\frac \\partial {\\partial b}$\n",
    "\n",
    "Sigma notation Calculating the sum of a set of values. i is the starting point, N is for every set (points). \n",
    "\n",
    "for m: $\\Sigma_{i=1}^N$\n",
    "\n",
    "for b: $\\Sigma_{i=1}^N$\n",
    "\n",
    "The set calculation for m and b\n",
    "\n",
    "for m: $- x_i(y_i(mx_i + b))$\n",
    "\n",
    "for b: $- (y_i(mx_i + b))$\n",
    "\n",
    "\n",
    "The practical use of linear regression is to find the relationship between 2 value pairs"
   ]
  },
  {
   "cell_type": "code",
   "execution_count": 44,
   "metadata": {
    "collapsed": false
   },
   "outputs": [
    {
     "name": "stdout",
     "output_type": "stream",
     "text": [
      "starting gradient descent at b = 0, m = 0 error = 5565.107834483211\n",
      "Running...\n",
      "After 10000 iterations b = 0.1512897437189306, m = 1.4824631965682806 error = 112.66584998492435\n"
     ]
    }
   ],
   "source": [
    "from numpy import *\n",
    "\n",
    "# Computes the error for the line with given points\n",
    "# this is our metric, that we want to minimise over time\n",
    "# we need to make this smaller\n",
    "# given (see parameters)\n",
    "def compute_error_for_line_given_points(b, m, points):\n",
    "    # intialize Error at 0\n",
    "    totalError = 0 # we dont have an error yet until it is calculated\n",
    "    \n",
    "    # for every point\n",
    "    for i in range(0, len(points)): # sigma notation (N in the equation)\n",
    "        # get the x value\n",
    "        x = points[i, 0] # x part of equation\n",
    "        # get the y value\n",
    "        y = points[i, 1] # y part of equation\n",
    "        # get the difference, square it, add it to the total\n",
    "        totalError += (y - (m * x + b)) **2 # this is the set part of equation\n",
    "    \n",
    "    # get the average\n",
    "    return totalError / float(len(points)) # 1/N (average part of equation)\n",
    "\n",
    "# gradient descent: local minima is where we are going\n",
    "# bowl, drop a ball in a bowl and at the point where the\n",
    "# ball stops is the optimal point\n",
    "# gradient means slope. the gradient acts as a compus. its\n",
    "# always going to point down. When the error is calulated its\n",
    "# going to tell us what direction we should be going\n",
    "# when lowest point is best, becuase thats when our error is smallest\n",
    "# when our error is the smallest that when we have the line of best fit\n",
    "\n",
    "def step_gradient(b_current, m_current, points, learningRate):\n",
    "    \n",
    "    # starting point for our gradiants\n",
    "    b_gradiant = 0\n",
    "    m_gradient = 0\n",
    "    \n",
    "    N = float(len(points))\n",
    "    \n",
    "    for i in range(0, len(points)):\n",
    "        x = points[i, 0]\n",
    "        y = points[i, 1]\n",
    "        \n",
    "        # direction with respect to b and m\n",
    "        # computing partial derivatives of our error function\n",
    "        # for every single point we are going to calculate the partial\n",
    "        # derivative with respect to b and respect to m. it will give us\n",
    "        # a direction for b and m\n",
    "        b_gradiant += -(2/N) * (y - ((m_current * x) + b_current))\n",
    "        m_gradient += -(2/N) * x * (y - ((m_current * x)) + b_current)\n",
    "    \n",
    "    # update our b and m values using this partial derivatives\n",
    "    # the learning rate: defines the rate we are updating our b and m values\n",
    "    new_b = b_current - (learningRate * b_gradiant)\n",
    "    new_m = m_current - (learningRate * m_gradient)\n",
    "    \n",
    "    return [new_b, new_m]\n",
    "\n",
    "# gradient descent is used to reduce the error of the line we are drawing\n",
    "# used to reduce the error metric\n",
    "# given (see parameters)\n",
    "def gradient_descent_runner(points, starting_b, starting_m, learning_rate, num_iterations):\n",
    "    # starting b and m\n",
    "    b = starting_b\n",
    "    m = starting_m\n",
    "    \n",
    "    # perform gradient descent\n",
    "    for i in range(num_iterations):\n",
    "        # update b and m with the new more accurate b and m\n",
    "        # by performing this gradient step\n",
    "        b, m = step_gradient(b, m, array(points), learning_rate)\n",
    "    \n",
    "    # return the optimal b and m\n",
    "    return [b, m]\n",
    "\n",
    "\n",
    "    \n",
    "def run():\n",
    "    \n",
    "    # Step 1 - collect our data\n",
    "    points = genfromtxt('data.csv', delimiter=',')\n",
    "    \n",
    "    # Step 2 - define our hyperparamters\n",
    "    \n",
    "    # How fast should our model converge? (When you get optimal results (line of best fit in LR))\n",
    "    learning_rate = 0.0001\n",
    "    \n",
    "    # y = mx + b (slope formula) (x and y are the points)\n",
    "    initial_b = 0 # y intercept (0 is our initial value (where we start))\n",
    "    initial_m = 0 # the slope (0 is our initial value (where we start))\n",
    "    num_interations = 1000 # how much we want to train our model (the number of iterations)\n",
    "    \n",
    "    # step 3 - train our model\n",
    "    \n",
    "    print('starting gradient descent at b = {0}, m = {1} error = {2}'.format(initial_b, initial_m, compute_error_for_line_given_points(initial_b, initial_m, points)))\n",
    "    print('Running...')\n",
    "    [b, m] = gradient_descent_runner(points, initial_b, initial_m, learning_rate, num_interations)\n",
    "    print('After {0} iterations b = {1}, m = {2} error = {3}'.format(num_interations, b, m, compute_error_for_line_given_points(b, m, points)))\n",
    "    \n",
    "    \n",
    "    \n",
    "    \n",
    "\n",
    "if __name__ == '__main__':\n",
    "    run()"
   ]
  },
  {
   "cell_type": "markdown",
   "metadata": {},
   "source": [
    "if everything is correct, you should get a value for b around 0.15, m around 1.48, and an error value of around 112.66\n",
    "\n",
    "#### Resources\n",
    "[Github - linear regression live](https://github.com/llSourcell/linear_regression_live)\n",
    "\n",
    "[youtube - linear regression live](https://youtu.be/uwwWVAgJBcM)"
   ]
  },
  {
   "cell_type": "markdown",
   "metadata": {
    "collapsed": true
   },
   "source": [
    "### How to make a Neural Network\n",
    "\n",
    "Below we will create a basic neural network only using numpy.\n",
    "\n",
    "We will use the below data set:\n",
    "\n",
    "| Training Set  | Input         | Output|\n",
    "| ------------- |:-------------:| -----:|\n",
    "| Example 1     |     0 0 1     |   0   |\n",
    "| Example 2     |     1 1 1     |   1   |\n",
    "| Example 3     |     1 0 1     |   1   |\n",
    "| Example 4     |     0 1 1     |   0   |\n",
    "|               |               |       |\n",
    "| New Situation |     1 0 0     |   ?   |"
   ]
  },
  {
   "cell_type": "code",
   "execution_count": 45,
   "metadata": {
    "collapsed": true
   },
   "outputs": [],
   "source": [
    "from numpy import exp, array, random, dot"
   ]
  },
  {
   "cell_type": "markdown",
   "metadata": {},
   "source": [
    "### Imports\n",
    "In the above lines of code, we have imported select functions from numpy needed for this neural network example"
   ]
  },
  {
   "cell_type": "code",
   "execution_count": 49,
   "metadata": {
    "collapsed": true
   },
   "outputs": [],
   "source": [
    "class NeuralNetwork():\n",
    "    def __init__(self):\n",
    "        # Seed the random number generator, so it generates the same numbers\n",
    "        # every time the program runs\n",
    "        random.seed(1)\n",
    "        \n",
    "        # We model a single neuron, with 3 input connections and 1 output connection\n",
    "        # We assign random weights to a 3 x 1 matrix, with values in the range -1 to 1\n",
    "        # and a mean of 0\n",
    "        self.synaptic_weights = 2 * random.random((3,1)) - 1\n",
    "    \n",
    "    # The sigmoid function, which describes an s shaped curve\n",
    "    # we pass the weighted sum of the inputs through this function\n",
    "    # to normalise them between 0 and 1\n",
    "    # will convert it to a probability between 0 and 1\n",
    "    def __sigmoid(self, x):\n",
    "        return 1 /(1 + exp(-x))\n",
    "    \n",
    "    # gradient of the sigmoid curve\n",
    "    def __sigmoid_derivative(self, x):\n",
    "        return x * (1-x)\n",
    "    \n",
    "    # the real meat of the code. This performs the training\n",
    "    def train(self, training_set_inputs, training_set_outputs, number_of_training_iterations):\n",
    "        for iteration in range(number_of_training_iterations):\n",
    "            # pass the training set through our neural net\n",
    "            output = self.predict(training_set_inputs)\n",
    "            \n",
    "            # calculate the error\n",
    "            error = training_set_outputs - output\n",
    "            \n",
    "            # this represents backpropagation - continiously updating weights via gradient desent\n",
    "            # multiply the error by the input and again by the gradient of the sigmoid curve\n",
    "            adjustment = dot(training_set_inputs.T, error * self.__sigmoid_derivative(output))\n",
    "            \n",
    "            # adjust the weights\n",
    "            self.synaptic_weights += adjustment\n",
    "    \n",
    "    def predict(self, inputs):\n",
    "        # pass inputs through our neural network (our single neuron)\n",
    "        return self.__sigmoid(dot(inputs, self.synaptic_weights))\n",
    "        \n",
    "        "
   ]
  },
  {
   "cell_type": "markdown",
   "metadata": {},
   "source": [
    "### Class\n",
    "\n",
    "Here we implement a Neuralnetwork class.\n",
    "\n",
    "1. A Neural Network is an algorithm that learns to identify patterns in data\n",
    "\n",
    "2. Backpropagation is a technique to train a neural net by updating weights via gradient descent\n",
    "\n",
    "3. Deep learning = many layer neural net _ big data + big compute\n"
   ]
  },
  {
   "cell_type": "code",
   "execution_count": 50,
   "metadata": {
    "collapsed": false
   },
   "outputs": [
    {
     "name": "stdout",
     "output_type": "stream",
     "text": [
      "Random starting synaptic weights:\n",
      "[[-0.16595599]\n",
      " [ 0.44064899]\n",
      " [-0.99977125]]\n",
      "New synaptic weights after training: \n",
      "[[ 9.67299303]\n",
      " [-0.2078435 ]\n",
      " [-4.62963669]]\n",
      "Considering new situation [1, 0, 0] -> ?: \n",
      "[ 0.99993704]\n"
     ]
    }
   ],
   "source": [
    "if __name__ == '__main__':\n",
    "    \n",
    "    # initialise a single neuron neural network\n",
    "    neural_network = NeuralNetwork()\n",
    "    \n",
    "    print('Random starting synaptic weights:')\n",
    "    print(neural_network.synaptic_weights)\n",
    "    \n",
    "    # The training set. We have 4 examples, each consisting of 3 input values\n",
    "    # and 1 output value\n",
    "    training_set_input = array([[0,0,1], [1,1,1], [1,0,1], [0,1,1]])\n",
    "    training_set_outputs = array([[0,1,1,0]]).T\n",
    "    \n",
    "    # Since we define what category the output belongs to\n",
    "    # this is a classification task\n",
    "    # Train the neural network using a training set\n",
    "    # Do it 10,000 times and make small adjustments each time\n",
    "    neural_network.train(training_set_input, training_set_outputs, 10000)\n",
    "    \n",
    "    print('New synaptic weights after training: ')\n",
    "    print(neural_network.synaptic_weights)\n",
    "    \n",
    "    # Test the neural network with a new situation\n",
    "    print('Considering new situation [1, 0, 0] -> ?: ')\n",
    "    print(neural_network.predict(array([1, 0, 0])))\n",
    "    "
   ]
  },
  {
   "cell_type": "markdown",
   "metadata": {},
   "source": [
    "### Conclusion\n",
    "given a new set of data [1, 0, 0] our neural net should tell us that it has a high probability of producing a 1 or [0.99993704]"
   ]
  },
  {
   "cell_type": "markdown",
   "metadata": {},
   "source": [
    "### Numerical Classification Live Session\n",
    "\n",
    "tensorflow will be used for the following examples.\n",
    "\n",
    "We will be using tensorflow to classify housing prices\n",
    "\n",
    "Our data is located in the housing_prices.csv\n",
    "\n",
    "This will be supervised ML\n"
   ]
  },
  {
   "cell_type": "code",
   "execution_count": 53,
   "metadata": {
    "collapsed": false
   },
   "outputs": [],
   "source": [
    "import pandas as pd # work with data as tables\n",
    "import numpy as np # use number matrices\n",
    "import matplotlib.pyplot as plt\n",
    "import tensorflow as tf"
   ]
  },
  {
   "cell_type": "markdown",
   "metadata": {},
   "source": [
    "#### Imports\n",
    "\n",
    "Pandas to work with data as tables\n",
    "numpy to use number matrices\n",
    "matplotlib for creating and diplaying graphs\n",
    "tensorflow for machine learning\n"
   ]
  },
  {
   "cell_type": "code",
   "execution_count": 56,
   "metadata": {
    "collapsed": false
   },
   "outputs": [
    {
     "data": {
      "text/html": [
       "<div>\n",
       "<table border=\"1\" class=\"dataframe\">\n",
       "  <thead>\n",
       "    <tr style=\"text-align: right;\">\n",
       "      <th></th>\n",
       "      <th>area</th>\n",
       "      <th>bathrooms</th>\n",
       "    </tr>\n",
       "  </thead>\n",
       "  <tbody>\n",
       "    <tr>\n",
       "      <th>0</th>\n",
       "      <td>2104.0</td>\n",
       "      <td>3.0</td>\n",
       "    </tr>\n",
       "    <tr>\n",
       "      <th>1</th>\n",
       "      <td>1600.0</td>\n",
       "      <td>3.0</td>\n",
       "    </tr>\n",
       "    <tr>\n",
       "      <th>2</th>\n",
       "      <td>2400.0</td>\n",
       "      <td>3.0</td>\n",
       "    </tr>\n",
       "    <tr>\n",
       "      <th>3</th>\n",
       "      <td>1416.0</td>\n",
       "      <td>2.0</td>\n",
       "    </tr>\n",
       "    <tr>\n",
       "      <th>4</th>\n",
       "      <td>3000.0</td>\n",
       "      <td>4.0</td>\n",
       "    </tr>\n",
       "    <tr>\n",
       "      <th>5</th>\n",
       "      <td>1985.0</td>\n",
       "      <td>4.0</td>\n",
       "    </tr>\n",
       "    <tr>\n",
       "      <th>6</th>\n",
       "      <td>1534.0</td>\n",
       "      <td>3.0</td>\n",
       "    </tr>\n",
       "    <tr>\n",
       "      <th>7</th>\n",
       "      <td>1427.0</td>\n",
       "      <td>3.0</td>\n",
       "    </tr>\n",
       "    <tr>\n",
       "      <th>8</th>\n",
       "      <td>1380.0</td>\n",
       "      <td>3.0</td>\n",
       "    </tr>\n",
       "    <tr>\n",
       "      <th>9</th>\n",
       "      <td>1494.0</td>\n",
       "      <td>3.0</td>\n",
       "    </tr>\n",
       "  </tbody>\n",
       "</table>\n",
       "</div>"
      ],
      "text/plain": [
       "     area  bathrooms\n",
       "0  2104.0        3.0\n",
       "1  1600.0        3.0\n",
       "2  2400.0        3.0\n",
       "3  1416.0        2.0\n",
       "4  3000.0        4.0\n",
       "5  1985.0        4.0\n",
       "6  1534.0        3.0\n",
       "7  1427.0        3.0\n",
       "8  1380.0        3.0\n",
       "9  1494.0        3.0"
      ]
     },
     "execution_count": 56,
     "metadata": {},
     "output_type": "execute_result"
    }
   ],
   "source": [
    "# step 1 is to load Data\n",
    "dataframe = pd.read_csv('housing_prices.csv') # read in a dataframe: Create dataframe object\n",
    "# a dataframe is an object in memory that pandas creates from a csv \n",
    "#file that we can then easily parse\n",
    "\n",
    "#removed columns that we dont care about: the features we dont care about\n",
    "# feature selection is its own displine. a good rule of thumb\n",
    "# is what features would you personaly use to make a prediction\n",
    "# we only care about the number of bathrooms and area\n",
    "dataframe = dataframe.drop(['index', 'price', 'sq_price'], axis=1)\n",
    "# axis is 1 because we are only going to use the first axis in the data set\n",
    "\n",
    "# we are only going to use the first 10 rows\n",
    "dataframe = dataframe[0:10]\n",
    "\n",
    "# print out the dataframe\n",
    "dataframe"
   ]
  },
  {
   "cell_type": "code",
   "execution_count": 57,
   "metadata": {
    "collapsed": false
   },
   "outputs": [
    {
     "data": {
      "text/html": [
       "<div>\n",
       "<table border=\"1\" class=\"dataframe\">\n",
       "  <thead>\n",
       "    <tr style=\"text-align: right;\">\n",
       "      <th></th>\n",
       "      <th>area</th>\n",
       "      <th>bathrooms</th>\n",
       "      <th>y1</th>\n",
       "      <th>y2</th>\n",
       "    </tr>\n",
       "  </thead>\n",
       "  <tbody>\n",
       "    <tr>\n",
       "      <th>0</th>\n",
       "      <td>2104.0</td>\n",
       "      <td>3.0</td>\n",
       "      <td>1</td>\n",
       "      <td>0</td>\n",
       "    </tr>\n",
       "    <tr>\n",
       "      <th>1</th>\n",
       "      <td>1600.0</td>\n",
       "      <td>3.0</td>\n",
       "      <td>1</td>\n",
       "      <td>0</td>\n",
       "    </tr>\n",
       "    <tr>\n",
       "      <th>2</th>\n",
       "      <td>2400.0</td>\n",
       "      <td>3.0</td>\n",
       "      <td>1</td>\n",
       "      <td>0</td>\n",
       "    </tr>\n",
       "    <tr>\n",
       "      <th>3</th>\n",
       "      <td>1416.0</td>\n",
       "      <td>2.0</td>\n",
       "      <td>0</td>\n",
       "      <td>1</td>\n",
       "    </tr>\n",
       "    <tr>\n",
       "      <th>4</th>\n",
       "      <td>3000.0</td>\n",
       "      <td>4.0</td>\n",
       "      <td>0</td>\n",
       "      <td>1</td>\n",
       "    </tr>\n",
       "    <tr>\n",
       "      <th>5</th>\n",
       "      <td>1985.0</td>\n",
       "      <td>4.0</td>\n",
       "      <td>1</td>\n",
       "      <td>0</td>\n",
       "    </tr>\n",
       "    <tr>\n",
       "      <th>6</th>\n",
       "      <td>1534.0</td>\n",
       "      <td>3.0</td>\n",
       "      <td>0</td>\n",
       "      <td>1</td>\n",
       "    </tr>\n",
       "    <tr>\n",
       "      <th>7</th>\n",
       "      <td>1427.0</td>\n",
       "      <td>3.0</td>\n",
       "      <td>1</td>\n",
       "      <td>0</td>\n",
       "    </tr>\n",
       "    <tr>\n",
       "      <th>8</th>\n",
       "      <td>1380.0</td>\n",
       "      <td>3.0</td>\n",
       "      <td>1</td>\n",
       "      <td>0</td>\n",
       "    </tr>\n",
       "    <tr>\n",
       "      <th>9</th>\n",
       "      <td>1494.0</td>\n",
       "      <td>3.0</td>\n",
       "      <td>1</td>\n",
       "      <td>0</td>\n",
       "    </tr>\n",
       "  </tbody>\n",
       "</table>\n",
       "</div>"
      ],
      "text/plain": [
       "     area  bathrooms  y1  y2\n",
       "0  2104.0        3.0   1   0\n",
       "1  1600.0        3.0   1   0\n",
       "2  2400.0        3.0   1   0\n",
       "3  1416.0        2.0   0   1\n",
       "4  3000.0        4.0   0   1\n",
       "5  1985.0        4.0   1   0\n",
       "6  1534.0        3.0   0   1\n",
       "7  1427.0        3.0   1   0\n",
       "8  1380.0        3.0   1   0\n",
       "9  1494.0        3.0   1   0"
      ]
     },
     "execution_count": 57,
     "metadata": {},
     "output_type": "execute_result"
    }
   ],
   "source": [
    "# Step 2  - add labels: This is a classification problem\n",
    "# a good buy is a 1 and a bad buy is a 0\n",
    "dataframe.loc[:, ('y1')] = [1,1,1,0,0,1,0,1,1,1]\n",
    "\n",
    "# y2 is a negation of y1, it is the opposite. Y2 means we dont like a house\n",
    "dataframe.loc[:, ('y2')] = dataframe['y1'] == 0\n",
    "\n",
    "# turn TRUE/FALSE to 1s and 0s\n",
    "dataframe.loc[:, ('y2')] = dataframe['y2'].astype(int)\n",
    "dataframe"
   ]
  },
  {
   "cell_type": "code",
   "execution_count": 60,
   "metadata": {
    "collapsed": false
   },
   "outputs": [],
   "source": [
    "# Step 3 - prepare data for tensorflow (tensors)\n",
    "# tensors are a generic version of vectors and matrices\n",
    "# vector is a list of numbers (1D tesnor)\n",
    "# matrix is a list of list of numbers (2D tensor)\n",
    "#list of list of list of numbers (3D tensor)\n",
    "\n",
    "# convert features to input tensor \n",
    "inputX = dataframe.loc[:, ['area', 'bathrooms']].as_matrix()\n",
    "\n",
    "# convert labels to input tensor\n",
    "inputY = dataframe.loc[:, ['y1', 'y2']].as_matrix()"
   ]
  },
  {
   "cell_type": "code",
   "execution_count": 61,
   "metadata": {
    "collapsed": false
   },
   "outputs": [
    {
     "data": {
      "text/plain": [
       "array([[  2.10400000e+03,   3.00000000e+00],\n",
       "       [  1.60000000e+03,   3.00000000e+00],\n",
       "       [  2.40000000e+03,   3.00000000e+00],\n",
       "       [  1.41600000e+03,   2.00000000e+00],\n",
       "       [  3.00000000e+03,   4.00000000e+00],\n",
       "       [  1.98500000e+03,   4.00000000e+00],\n",
       "       [  1.53400000e+03,   3.00000000e+00],\n",
       "       [  1.42700000e+03,   3.00000000e+00],\n",
       "       [  1.38000000e+03,   3.00000000e+00],\n",
       "       [  1.49400000e+03,   3.00000000e+00]])"
      ]
     },
     "execution_count": 61,
     "metadata": {},
     "output_type": "execute_result"
    }
   ],
   "source": [
    "inputX # area and bathrooms"
   ]
  },
  {
   "cell_type": "code",
   "execution_count": 62,
   "metadata": {
    "collapsed": false
   },
   "outputs": [
    {
     "data": {
      "text/plain": [
       "array([[1, 0],\n",
       "       [1, 0],\n",
       "       [1, 0],\n",
       "       [0, 1],\n",
       "       [0, 1],\n",
       "       [1, 0],\n",
       "       [0, 1],\n",
       "       [1, 0],\n",
       "       [1, 0],\n",
       "       [1, 0]], dtype=int64)"
      ]
     },
     "execution_count": 62,
     "metadata": {},
     "output_type": "execute_result"
    }
   ],
   "source": [
    "inputY # y1 and y2"
   ]
  },
  {
   "cell_type": "code",
   "execution_count": 63,
   "metadata": {
    "collapsed": true
   },
   "outputs": [],
   "source": [
    "# Step 4 - Write out our hyperparameters\n",
    "\n",
    "# controls the rate a which we learn. \n",
    "# defines how fast we reach convergince\n",
    "# Convergince is when our model is at optimal fit\n",
    "# optimnal fit is when the error is minimised \n",
    "# its alway a trade off of speed and accuracy\n",
    "learning_rate = 0.000001 \n",
    "\n",
    "# how many times we will be training\n",
    "training_epochs = 2000\n",
    "\n",
    "# how often do we want to display the process of training\n",
    "display_steps = 50\n",
    "\n",
    "# the number of samples\n",
    "n_samples = inputY.size\n",
    "\n"
   ]
  },
  {
   "cell_type": "code",
   "execution_count": 68,
   "metadata": {
    "collapsed": false
   },
   "outputs": [],
   "source": [
    "# Step 5 - Create our computational graph/Neural network (they are the same thing)\n",
    "\n",
    "# create place holder for our feature tensor\n",
    "# for our feature input tensors\n",
    "# the Input is a float32\n",
    "# None means any numbers of examples\n",
    "# 2 because we have 2 features\n",
    "# placeholders are gateways for data. it is how we feed data to our computational graph\n",
    "x = tf.placeholder(tf.float32, [None,2])\n",
    "\n",
    "# create weights\n",
    "# for initial learning they should be always zero\n",
    "# in transfer learning they would not be (because they have already been trained)\n",
    "# 2x2 float matrix, that we'll keep updating\n",
    "# through the training process\n",
    "# in tensorflow Varibles hold and update parameters\n",
    "# they are in memory buffers containing tensors\n",
    "W = tf.Variable(tf.zeros([2,2]))\n",
    "\n",
    "# add biases - biases help our model fit better\n",
    "# example is b in y = mx + b (b is the bias)\n",
    "# we ant two bc we have 2 inputs\n",
    "b = tf.Variable(tf.zeros([2]))\n",
    "\n",
    "# multiply our weights by our inputs, first calculation\n",
    "# weights are how we govern how data flows in our computation graph\n",
    "# multiply input by weights and add biases\n",
    "# this is our computational step\n",
    "y_values = tf.add(tf.matmul(x, W), b)\n",
    "\n",
    "#softmax is another word for sigmoids\n",
    "# softmax normalizes our value. Converts\n",
    "# to a probablity so we can feed it to our output\n",
    "# apply softmax to value we just created\n",
    "#softmax is our activation function\n",
    "y = tf.nn.softmax(y_values)\n",
    "\n",
    "# feed in a matrix of labeles\n",
    "y_ = tf.placeholder(tf.float32, [None, 2])"
   ]
  },
  {
   "cell_type": "code",
   "execution_count": 76,
   "metadata": {
    "collapsed": false
   },
   "outputs": [],
   "source": [
    "# Step 6 - Performing Training\n",
    "\n",
    "# Create our cost function, mean squared error\n",
    "# reduced sum, computes the sum of elements across dimension of a tensor\n",
    "cost = tf.reduce_sum(tf.pow(y_ - y, 2))/(2*n_samples)\n",
    "\n",
    "# Gradient descent - optimise our cost function\n",
    "optimizer = tf.train.GradientDescentOptimizer(learning_rate).minimize(cost)\n",
    "\n",
    "# initialize varibles and tensorflow session\n",
    "# init = tf.initialize_all_variables() # is deprecated and will be removed after 2017-03-02.\n",
    "init = tf.global_variables_initializer()\n",
    "sess = tf.Session()\n",
    "sess.run(init)"
   ]
  },
  {
   "cell_type": "code",
   "execution_count": 77,
   "metadata": {
    "collapsed": false
   },
   "outputs": [
    {
     "name": "stdout",
     "output_type": "stream",
     "text": [
      "training step:  0000 cost= 0.114958666\n",
      "training step:  0050 cost= 0.109539941\n",
      "training step:  0100 cost= 0.109539866\n",
      "training step:  0150 cost= 0.109539807\n",
      "training step:  0200 cost= 0.109539732\n",
      "training step:  0250 cost= 0.109539673\n",
      "training step:  0300 cost= 0.109539606\n",
      "training step:  0350 cost= 0.109539531\n",
      "training step:  0400 cost= 0.109539464\n",
      "training step:  0450 cost= 0.109539405\n",
      "training step:  0500 cost= 0.109539315\n",
      "training step:  0550 cost= 0.109539248\n",
      "training step:  0600 cost= 0.109539196\n",
      "training step:  0650 cost= 0.109539129\n",
      "training step:  0700 cost= 0.109539054\n",
      "training step:  0750 cost= 0.109538987\n",
      "training step:  0800 cost= 0.109538913\n",
      "training step:  0850 cost= 0.109538853\n",
      "training step:  0900 cost= 0.109538779\n",
      "training step:  0950 cost= 0.109538712\n",
      "training step:  1000 cost= 0.109538652\n",
      "training step:  1050 cost= 0.109538577\n",
      "training step:  1100 cost= 0.109538510\n",
      "training step:  1150 cost= 0.109538436\n",
      "training step:  1200 cost= 0.109538361\n",
      "training step:  1250 cost= 0.109538302\n",
      "training step:  1300 cost= 0.109538235\n",
      "training step:  1350 cost= 0.109538175\n",
      "training step:  1400 cost= 0.109538101\n",
      "training step:  1450 cost= 0.109538034\n",
      "training step:  1500 cost= 0.109537959\n",
      "training step:  1550 cost= 0.109537885\n",
      "training step:  1600 cost= 0.109537825\n",
      "training step:  1650 cost= 0.109537765\n",
      "training step:  1700 cost= 0.109537683\n",
      "training step:  1750 cost= 0.109537624\n",
      "training step:  1800 cost= 0.109537557\n",
      "training step:  1850 cost= 0.109537482\n",
      "training step:  1900 cost= 0.109537408\n",
      "training step:  1950 cost= 0.109537348\n",
      "Optimization Finished!\n",
      "Training cost= 0.109537 W= [[  2.14149564e-04  -2.14149914e-04]\n",
      " [  5.12748193e-05  -5.12747974e-05]] b= [  1.19155184e-05  -1.19155284e-05]\n"
     ]
    }
   ],
   "source": [
    "# training loop\n",
    "\n",
    "# for every leanring epoc we have\n",
    "for i in range(training_epochs):\n",
    "    sess.run(optimizer, feed_dict={x: inputX, y_: inputY})\n",
    "    \n",
    "    # write out logs of training\n",
    "    if (i) % display_steps == 0:\n",
    "        cc = sess.run(cost, feed_dict={x: inputX, y_ : inputY})\n",
    "        print(\"training step: \", '%04d' % (i), \"cost=\", \"{:.9f}\".format(cc))\n",
    "\n",
    "print('Optimization Finished!')\n",
    "training_cost = sess.run(cost, feed_dict={x: inputX, y_ : inputY})\n",
    "print(\"Training cost=\", training_cost, \"W=\", sess.run(W), \"b=\", sess.run(b))"
   ]
  },
  {
   "cell_type": "code",
   "execution_count": 78,
   "metadata": {
    "collapsed": false
   },
   "outputs": [
    {
     "data": {
      "text/plain": [
       "array([[ 0.71125221,  0.28874779],\n",
       "       [ 0.66498977,  0.33501023],\n",
       "       [ 0.73657656,  0.26342347],\n",
       "       [ 0.64718789,  0.35281211],\n",
       "       [ 0.78335613,  0.2166439 ],\n",
       "       [ 0.70069474,  0.29930523],\n",
       "       [ 0.65866327,  0.34133676],\n",
       "       [ 0.64828628,  0.35171372],\n",
       "       [ 0.64368278,  0.35631716],\n",
       "       [ 0.65480113,  0.3451989 ]], dtype=float32)"
      ]
     },
     "execution_count": 78,
     "metadata": {},
     "output_type": "execute_result"
    }
   ],
   "source": [
    "sess.run(y, feed_dict={x: inputX})"
   ]
  },
  {
   "cell_type": "markdown",
   "metadata": {},
   "source": [
    "its saying all houses are a good buy 7/10 correct\n",
    "how to improve? add a hiden layer\n",
    "\n",
    "Response should be\n",
    "\n",
    "array([[ 0.71125221,  0.28874779],\n",
    "       [ 0.66498977,  0.33501023],\n",
    "       [ 0.73657656,  0.26342347],\n",
    "       [ 0.64718789,  0.35281211],\n",
    "       [ 0.78335613,  0.2166439 ],\n",
    "       [ 0.70069474,  0.29930523],\n",
    "       [ 0.65866327,  0.34133676],\n",
    "       [ 0.64828628,  0.35171372],\n",
    "       [ 0.64368278,  0.35631716],\n",
    "       [ 0.65480113,  0.3451989 ]], dtype=float32)"
   ]
  },
  {
   "cell_type": "markdown",
   "metadata": {},
   "source": [
    "## Logistic Regression\n",
    "\n",
    "loglos function"
   ]
  }
 ],
 "metadata": {
  "kernelspec": {
   "display_name": "Python [conda root]",
   "language": "python",
   "name": "conda-root-py"
  },
  "language_info": {
   "codemirror_mode": {
    "name": "ipython",
    "version": 3
   },
   "file_extension": ".py",
   "mimetype": "text/x-python",
   "name": "python",
   "nbconvert_exporter": "python",
   "pygments_lexer": "ipython3",
   "version": "3.5.2"
  }
 },
 "nbformat": 4,
 "nbformat_minor": 2
}
