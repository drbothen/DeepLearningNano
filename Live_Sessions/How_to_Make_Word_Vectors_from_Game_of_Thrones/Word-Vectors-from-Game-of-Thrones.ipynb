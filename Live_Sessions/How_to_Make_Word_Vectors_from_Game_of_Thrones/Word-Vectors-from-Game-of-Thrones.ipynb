{
 "cells": [
  {
   "cell_type": "markdown",
   "metadata": {},
   "source": [
    "## Goal: \n",
    "- Create word vectors from a game of thrones dataset to see semantic similarity"
   ]
  },
  {
   "cell_type": "markdown",
   "metadata": {},
   "source": [
    "## Import our dependinces"
   ]
  },
  {
   "cell_type": "code",
   "execution_count": null,
   "metadata": {
    "collapsed": false
   },
   "outputs": [],
   "source": [
    "# for word encoding\n",
    "import codecs\n",
    "# regex\n",
    "import glob\n",
    "# Concurrency\n",
    "import multiprocessing\n",
    "# dealing with the operating system\n",
    "import os\n",
    "# pretty printing, human readable\n",
    "import pprint\n",
    "# more regularexpression\n",
    "import re\n",
    "# natural language toolkit\n",
    "import nltk\n",
    "# word 2 vec\n",
    "import gensim.models.word2vec as w2v\n",
    "# dimensionality reduction - Video - visualize a dataset easily\n",
    "import sklearn.manifold\n",
    "# math\n",
    "import numpy as np\n",
    "# plotting\n",
    "import matplotlib.pyplot as plt\n",
    "# parse pandas as pd\n",
    "import pandas as pd\n",
    "# visualization\n",
    "import seaborn as sns\n",
    "# logging\n",
    "import logging"
   ]
  },
  {
   "cell_type": "code",
   "execution_count": null,
   "metadata": {
    "collapsed": false
   },
   "outputs": [],
   "source": [
    "%pylab inline"
   ]
  },
  {
   "cell_type": "markdown",
   "metadata": {},
   "source": [
    "### Set up logging"
   ]
  },
  {
   "cell_type": "code",
   "execution_count": null,
   "metadata": {
    "collapsed": false
   },
   "outputs": [],
   "source": [
    "logging.basicConfig(format='%(asctime)s : %(levelname)s : %(message)s', level=logging.INFO)"
   ]
  },
  {
   "cell_type": "code",
   "execution_count": null,
   "metadata": {
    "collapsed": false
   },
   "outputs": [],
   "source": [
    "# step 1 process our data\n",
    "# clean our data\n",
    "nltk.download('punkt') # pretrained tokenizer \"take a peice of text and split into text\" this does sentances\n",
    "nltk.download('stopwords') # words like and, the an, a, of. We want to remove these"
   ]
  },
  {
   "cell_type": "markdown",
   "metadata": {},
   "source": [
    "### Prepare Corpus\n",
    "#### Load books from files"
   ]
  },
  {
   "cell_type": "code",
   "execution_count": null,
   "metadata": {
    "collapsed": false
   },
   "outputs": [],
   "source": [
    "# get the book names, matching txt file\n",
    "book_filenames = sorted(glob.glob(\".\\data\\*.txt\"))\n",
    "print('Found Books: ')\n",
    "book_filenames # print out the file names"
   ]
  },
  {
   "cell_type": "code",
   "execution_count": 34,
   "metadata": {
    "collapsed": false
   },
   "outputs": [
    {
     "name": "stdout",
     "output_type": "stream",
     "text": [
      "Reading '.\\data\\got1.txt'...\n",
      "Corpus is now 1770659 characters long\n",
      "\n",
      "Reading '.\\data\\got2.txt'...\n",
      "Corpus is now 4071041 characters long\n",
      "\n",
      "Reading '.\\data\\got3.txt'...\n",
      "Corpus is now 6391405 characters long\n",
      "\n",
      "Reading '.\\data\\got4.txt'...\n",
      "Corpus is now 8107945 characters long\n",
      "\n",
      "Reading '.\\data\\got5.txt'...\n",
      "Corpus is now 9719485 characters long\n",
      "\n"
     ]
    }
   ],
   "source": [
    "corpus_raw = u\"\"\n",
    "for book_filename in book_filenames:\n",
    "    print(\"Reading '{0}'...\".format(book_filename))\n",
    "    with codecs.open(book_filename, \"r\", \"utf-8\") as book_file:\n",
    "        corpus_raw += book_file.read()\n",
    "    print(\"Corpus is now {0} characters long\".format(len(corpus_raw)))\n",
    "    print()"
   ]
  },
  {
   "cell_type": "markdown",
   "metadata": {},
   "source": [
    "### Split the corpus into sentences"
   ]
  },
  {
   "cell_type": "code",
   "execution_count": 26,
   "metadata": {
    "collapsed": false
   },
   "outputs": [],
   "source": [
    "tokenizer = nltk.data.load('tokenizers/punkt/english.pickle')"
   ]
  },
  {
   "cell_type": "code",
   "execution_count": 35,
   "metadata": {
    "collapsed": true
   },
   "outputs": [],
   "source": [
    "raw_sentences = tokenizer.tokenize(corpus_raw)"
   ]
  },
  {
   "cell_type": "code",
   "execution_count": 36,
   "metadata": {
    "collapsed": true
   },
   "outputs": [],
   "source": [
    "#convert into a list of words\n",
    "#remove unnnecessary,, split into words, no hyphens\n",
    "#list of words\n",
    "def sentence_to_wordlist(raw):\n",
    "    clean = re.sub(\"[^a-zA-Z]\",\" \", raw)\n",
    "    words = clean.split()\n",
    "    return words"
   ]
  },
  {
   "cell_type": "code",
   "execution_count": 37,
   "metadata": {
    "collapsed": true
   },
   "outputs": [],
   "source": [
    "#sentence where each word is tokenized\n",
    "sentences = []\n",
    "for raw_sentence in raw_sentences:\n",
    "    if len(raw_sentence) > 0:\n",
    "        sentences.append(sentence_to_wordlist(raw_sentence))"
   ]
  },
  {
   "cell_type": "code",
   "execution_count": 38,
   "metadata": {
    "collapsed": false
   },
   "outputs": [
    {
     "name": "stdout",
     "output_type": "stream",
     "text": [
      "Heraldic crest by Virginia Norey.\n",
      "['Heraldic', 'crest', 'by', 'Virginia', 'Norey']\n"
     ]
    }
   ],
   "source": [
    "print(raw_sentences[5])\n",
    "print(sentence_to_wordlist(raw_sentences[5]))"
   ]
  },
  {
   "cell_type": "code",
   "execution_count": 39,
   "metadata": {
    "collapsed": false
   },
   "outputs": [
    {
     "name": "stdout",
     "output_type": "stream",
     "text": [
      "The book corpus contains 1,818,103 tokens\n"
     ]
    }
   ],
   "source": [
    "token_count = sum([len(sentence) for sentence in sentences])\n",
    "print(\"The book corpus contains {0:,} tokens\".format(token_count))"
   ]
  },
  {
   "cell_type": "markdown",
   "metadata": {},
   "source": [
    "## Train Word2Vec\n",
    "### Below are the hyperparms\n",
    "\n",
    "word vectors and word embedding is the same thing"
   ]
  },
  {
   "cell_type": "code",
   "execution_count": 46,
   "metadata": {
    "collapsed": false
   },
   "outputs": [],
   "source": [
    "#ONCE we have vectors\n",
    "#step 3 - build model\n",
    "#3 main tasks that vectors help with\n",
    "#DISTANCE, SIMILARITY, RANKING\n",
    "\n",
    "# Dimensionality of the resulting word vectors.\n",
    "#more dimensions, more computationally expensive to train\n",
    "#but also more accurate\n",
    "#more dimensions = more generalized\n",
    "num_features = 300\n",
    "# Minimum word count threshold.\n",
    "min_word_count = 3\n",
    "\n",
    "# Number of threads to run in parallel.\n",
    "#more workers, faster we train\n",
    "num_workers = multiprocessing.cpu_count()\n",
    "\n",
    "# Context window length.\n",
    "context_size = 7\n",
    "\n",
    "# Downsample setting for frequent words.\n",
    "#0 - 1e-5 is good for this\n",
    "downsampling = 1e-3\n",
    "\n",
    "# Seed for the RNG, to make the results reproducible.\n",
    "#random number generator\n",
    "#deterministic, good for debugging\n",
    "seed = 1\n"
   ]
  },
  {
   "cell_type": "code",
   "execution_count": 48,
   "metadata": {
    "collapsed": false
   },
   "outputs": [],
   "source": [
    "thrones2vec = w2v.Word2Vec(\n",
    "        sg=1,\n",
    "        seed=seed,\n",
    "        workers=num_workers,\n",
    "        size=num_features,\n",
    "        min_count=min_word_count,\n",
    "        window=context_size,\n",
    "        sample=downsampling\n",
    ")"
   ]
  },
  {
   "cell_type": "code",
   "execution_count": 49,
   "metadata": {
    "collapsed": false
   },
   "outputs": [
    {
     "name": "stderr",
     "output_type": "stream",
     "text": [
      "2017-02-07 00:39:11,566 : INFO : collecting all words and their counts\n",
      "2017-02-07 00:39:11,569 : INFO : PROGRESS: at sentence #0, processed 0 words, keeping 0 word types\n",
      "2017-02-07 00:39:11,617 : INFO : PROGRESS: at sentence #10000, processed 140984 words, keeping 10280 word types\n",
      "2017-02-07 00:39:11,704 : INFO : PROGRESS: at sentence #20000, processed 279730 words, keeping 13558 word types\n",
      "2017-02-07 00:39:11,777 : INFO : PROGRESS: at sentence #30000, processed 420336 words, keeping 16598 word types\n",
      "2017-02-07 00:39:11,823 : INFO : PROGRESS: at sentence #40000, processed 556581 words, keeping 18324 word types\n",
      "2017-02-07 00:39:11,883 : INFO : PROGRESS: at sentence #50000, processed 686247 words, keeping 19714 word types\n",
      "2017-02-07 00:39:11,950 : INFO : PROGRESS: at sentence #60000, processed 828497 words, keeping 21672 word types\n",
      "2017-02-07 00:39:11,988 : INFO : PROGRESS: at sentence #70000, processed 973830 words, keeping 23093 word types\n",
      "2017-02-07 00:39:12,050 : INFO : PROGRESS: at sentence #80000, processed 1114967 words, keeping 24252 word types\n",
      "2017-02-07 00:39:12,122 : INFO : PROGRESS: at sentence #90000, processed 1260481 words, keeping 26007 word types\n",
      "2017-02-07 00:39:12,197 : INFO : PROGRESS: at sentence #100000, processed 1393203 words, keeping 26884 word types\n",
      "2017-02-07 00:39:12,276 : INFO : PROGRESS: at sentence #110000, processed 1532150 words, keeping 27809 word types\n",
      "2017-02-07 00:39:12,340 : INFO : PROGRESS: at sentence #120000, processed 1680961 words, keeping 28486 word types\n",
      "2017-02-07 00:39:12,409 : INFO : collected 29026 word types from a corpus of 1818103 raw words and 128868 sentences\n",
      "2017-02-07 00:39:12,412 : INFO : Loading a fresh vocabulary\n",
      "2017-02-07 00:39:12,515 : INFO : min_count=3 retains 17277 unique words (59% of original 29026, drops 11749)\n",
      "2017-02-07 00:39:12,518 : INFO : min_count=3 leaves 1802699 word corpus (99% of original 1818103, drops 15404)\n",
      "2017-02-07 00:39:12,713 : INFO : deleting the raw counts dictionary of 29026 items\n",
      "2017-02-07 00:39:12,717 : INFO : sample=0.001 downsamples 50 most-common words\n",
      "2017-02-07 00:39:12,721 : INFO : downsampling leaves estimated 1404424 word corpus (77.9% of prior 1802699)\n",
      "2017-02-07 00:39:12,723 : INFO : estimated required memory for 17277 words and 300 dimensions: 50103300 bytes\n",
      "2017-02-07 00:39:12,999 : INFO : resetting layer weights\n"
     ]
    }
   ],
   "source": [
    "thrones2vec.build_vocab(sentences)"
   ]
  },
  {
   "cell_type": "code",
   "execution_count": 57,
   "metadata": {
    "collapsed": false
   },
   "outputs": [
    {
     "name": "stderr",
     "output_type": "stream",
     "text": [
      "2017-02-07 01:04:25,641 : WARNING : direct access to vocab will not be supported in future gensim releases, please use model.wv.vocab\n"
     ]
    },
    {
     "name": "stdout",
     "output_type": "stream",
     "text": [
      "Word2Vec vocabulary length: 17277\n"
     ]
    }
   ],
   "source": [
    "print(\"Word2Vec vocabulary length:\", len(thrones2vec.vocab))"
   ]
  },
  {
   "cell_type": "markdown",
   "metadata": {},
   "source": [
    "#### Start training, this might take a minute or two...."
   ]
  },
  {
   "cell_type": "code",
   "execution_count": 58,
   "metadata": {
    "collapsed": false
   },
   "outputs": [
    {
     "name": "stderr",
     "output_type": "stream",
     "text": [
      "2017-02-07 01:04:32,657 : INFO : training model with 4 workers on 17277 vocabulary and 300 features, using sg=1 hs=0 sample=0.001 negative=5 window=7\n",
      "2017-02-07 01:04:32,694 : INFO : expecting 128868 sentences, matching count from corpus used for vocabulary survey\n",
      "2017-02-07 01:04:33,815 : INFO : PROGRESS: at 2.30% examples, 153452 words/s, in_qsize 7, out_qsize 0\n",
      "2017-02-07 01:04:34,842 : INFO : PROGRESS: at 5.31% examples, 177840 words/s, in_qsize 7, out_qsize 0\n",
      "2017-02-07 01:04:35,911 : INFO : PROGRESS: at 8.17% examples, 176540 words/s, in_qsize 7, out_qsize 0\n",
      "2017-02-07 01:04:36,951 : INFO : PROGRESS: at 10.49% examples, 173251 words/s, in_qsize 8, out_qsize 1\n",
      "2017-02-07 01:04:37,994 : INFO : PROGRESS: at 13.11% examples, 174275 words/s, in_qsize 8, out_qsize 1\n",
      "2017-02-07 01:04:39,006 : INFO : PROGRESS: at 15.36% examples, 170689 words/s, in_qsize 8, out_qsize 0\n",
      "2017-02-07 01:04:40,014 : INFO : PROGRESS: at 17.80% examples, 170282 words/s, in_qsize 6, out_qsize 1\n",
      "2017-02-07 01:04:41,076 : INFO : PROGRESS: at 20.00% examples, 168854 words/s, in_qsize 7, out_qsize 0\n",
      "2017-02-07 01:04:42,085 : INFO : PROGRESS: at 22.40% examples, 168795 words/s, in_qsize 8, out_qsize 0\n",
      "2017-02-07 01:04:43,131 : INFO : PROGRESS: at 24.75% examples, 167373 words/s, in_qsize 8, out_qsize 0\n",
      "2017-02-07 01:04:44,351 : INFO : PROGRESS: at 27.30% examples, 164461 words/s, in_qsize 7, out_qsize 0\n",
      "2017-02-07 01:04:45,542 : INFO : PROGRESS: at 28.88% examples, 157574 words/s, in_qsize 7, out_qsize 2\n",
      "2017-02-07 01:04:46,630 : INFO : PROGRESS: at 31.45% examples, 158599 words/s, in_qsize 8, out_qsize 2\n",
      "2017-02-07 01:04:47,715 : INFO : PROGRESS: at 34.06% examples, 159457 words/s, in_qsize 7, out_qsize 0\n",
      "2017-02-07 01:04:48,720 : INFO : PROGRESS: at 36.56% examples, 159572 words/s, in_qsize 8, out_qsize 0\n",
      "2017-02-07 01:04:49,769 : INFO : PROGRESS: at 38.77% examples, 159651 words/s, in_qsize 8, out_qsize 0\n",
      "2017-02-07 01:04:50,841 : INFO : PROGRESS: at 41.07% examples, 159556 words/s, in_qsize 7, out_qsize 0\n",
      "2017-02-07 01:04:51,884 : INFO : PROGRESS: at 43.39% examples, 159320 words/s, in_qsize 5, out_qsize 2\n",
      "2017-02-07 01:04:52,894 : INFO : PROGRESS: at 45.63% examples, 158993 words/s, in_qsize 7, out_qsize 0\n",
      "2017-02-07 01:04:53,914 : INFO : PROGRESS: at 48.14% examples, 159016 words/s, in_qsize 7, out_qsize 0\n",
      "2017-02-07 01:04:54,968 : INFO : PROGRESS: at 50.35% examples, 158750 words/s, in_qsize 8, out_qsize 0\n",
      "2017-02-07 01:04:56,045 : INFO : PROGRESS: at 52.20% examples, 157067 words/s, in_qsize 7, out_qsize 0\n",
      "2017-02-07 01:04:57,138 : INFO : PROGRESS: at 54.16% examples, 155713 words/s, in_qsize 8, out_qsize 0\n",
      "2017-02-07 01:04:58,182 : INFO : PROGRESS: at 57.10% examples, 157196 words/s, in_qsize 7, out_qsize 0\n",
      "2017-02-07 01:04:59,200 : INFO : PROGRESS: at 59.57% examples, 158117 words/s, in_qsize 7, out_qsize 0\n",
      "2017-02-07 01:05:00,231 : INFO : PROGRESS: at 61.93% examples, 158360 words/s, in_qsize 7, out_qsize 0\n",
      "2017-02-07 01:05:01,234 : INFO : PROGRESS: at 64.61% examples, 159288 words/s, in_qsize 7, out_qsize 0\n",
      "2017-02-07 01:05:02,293 : INFO : PROGRESS: at 66.69% examples, 158295 words/s, in_qsize 8, out_qsize 1\n",
      "2017-02-07 01:05:03,360 : INFO : PROGRESS: at 69.17% examples, 158320 words/s, in_qsize 8, out_qsize 0\n",
      "2017-02-07 01:05:04,375 : INFO : PROGRESS: at 71.32% examples, 158129 words/s, in_qsize 7, out_qsize 0\n",
      "2017-02-07 01:05:05,409 : INFO : PROGRESS: at 73.28% examples, 157391 words/s, in_qsize 8, out_qsize 1\n",
      "2017-02-07 01:05:06,420 : INFO : PROGRESS: at 75.32% examples, 156774 words/s, in_qsize 7, out_qsize 0\n",
      "2017-02-07 01:05:07,444 : INFO : PROGRESS: at 77.66% examples, 156795 words/s, in_qsize 7, out_qsize 0\n",
      "2017-02-07 01:05:08,506 : INFO : PROGRESS: at 79.67% examples, 156430 words/s, in_qsize 6, out_qsize 1\n",
      "2017-02-07 01:05:09,554 : INFO : PROGRESS: at 81.70% examples, 155954 words/s, in_qsize 7, out_qsize 0\n",
      "2017-02-07 01:05:10,573 : INFO : PROGRESS: at 83.80% examples, 155630 words/s, in_qsize 7, out_qsize 0\n",
      "2017-02-07 01:05:11,616 : INFO : PROGRESS: at 85.96% examples, 155239 words/s, in_qsize 7, out_qsize 0\n",
      "2017-02-07 01:05:12,640 : INFO : PROGRESS: at 88.37% examples, 155128 words/s, in_qsize 7, out_qsize 0\n",
      "2017-02-07 01:05:13,662 : INFO : PROGRESS: at 90.14% examples, 154464 words/s, in_qsize 7, out_qsize 0\n",
      "2017-02-07 01:05:14,743 : INFO : PROGRESS: at 92.52% examples, 154545 words/s, in_qsize 6, out_qsize 1\n",
      "2017-02-07 01:05:15,756 : INFO : PROGRESS: at 94.39% examples, 153941 words/s, in_qsize 8, out_qsize 1\n",
      "2017-02-07 01:05:16,901 : INFO : PROGRESS: at 96.77% examples, 153443 words/s, in_qsize 8, out_qsize 2\n",
      "2017-02-07 01:05:17,918 : INFO : PROGRESS: at 99.07% examples, 153899 words/s, in_qsize 7, out_qsize 0\n",
      "2017-02-07 01:05:18,295 : INFO : worker thread finished; awaiting finish of 3 more threads\n",
      "2017-02-07 01:05:18,343 : INFO : worker thread finished; awaiting finish of 2 more threads\n",
      "2017-02-07 01:05:18,440 : INFO : worker thread finished; awaiting finish of 1 more threads\n",
      "2017-02-07 01:05:18,459 : INFO : worker thread finished; awaiting finish of 0 more threads\n",
      "2017-02-07 01:05:18,460 : INFO : training on 9090515 raw words (7022179 effective words) took 45.7s, 153654 effective words/s\n"
     ]
    },
    {
     "data": {
      "text/plain": [
       "7022179"
      ]
     },
     "execution_count": 58,
     "metadata": {},
     "output_type": "execute_result"
    }
   ],
   "source": [
    "thrones2vec.train(sentences)"
   ]
  },
  {
   "cell_type": "markdown",
   "metadata": {},
   "source": [
    "### Save to file, can be useful later"
   ]
  },
  {
   "cell_type": "code",
   "execution_count": 59,
   "metadata": {
    "collapsed": true
   },
   "outputs": [],
   "source": [
    "if not os.path.exists(\"trained\"):\n",
    "    os.makedirs(\"trained\")"
   ]
  },
  {
   "cell_type": "raw",
   "metadata": {},
   "source": [
    "thrones2vec.save(os.path.join(\"trained\", \"thrones2vec.w2c\")"
   ]
  },
  {
   "cell_type": "markdown",
   "metadata": {},
   "source": [
    "### Compress the word vectors into 2D space and plot them"
   ]
  },
  {
   "cell_type": "code",
   "execution_count": 60,
   "metadata": {
    "collapsed": true
   },
   "outputs": [],
   "source": [
    "#my video - how to visualize a dataset easily\n",
    "tsne = sklearn.manifold.TSNE(n_components=2, random_state=0)"
   ]
  },
  {
   "cell_type": "code",
   "execution_count": 61,
   "metadata": {
    "collapsed": false
   },
   "outputs": [
    {
     "name": "stderr",
     "output_type": "stream",
     "text": [
      "2017-02-07 01:06:42,436 : WARNING : direct access to syn0 will not be supported in future gensim releases, please use model.wv.syn0\n"
     ]
    }
   ],
   "source": [
    "all_word_vectors_matrix = thrones2vec.syn0"
   ]
  },
  {
   "cell_type": "markdown",
   "metadata": {},
   "source": [
    "### Train t-SNE, this could take a minute or two..."
   ]
  },
  {
   "cell_type": "code",
   "execution_count": 62,
   "metadata": {
    "collapsed": true
   },
   "outputs": [],
   "source": [
    "all_word_vectors_matrix_2d = tsne.fit_transform(all_word_vectors_matrix)"
   ]
  },
  {
   "cell_type": "markdown",
   "metadata": {},
   "source": [
    "#### Plot the big picture"
   ]
  },
  {
   "cell_type": "code",
   "execution_count": null,
   "metadata": {
    "collapsed": false
   },
   "outputs": [],
   "source": [
    "points = pd.DataFrame(\n",
    "    [\n",
    "        (word, coords[0], coords[1])\n",
    "        for word, coords in [\n",
    "            (word, all_word_vectors_matrix_2d[thrones2vec.vocab[word].index])\n",
    "            for word in thrones2vec.vocab\n",
    "        ]\n",
    "    ],\n",
    "    columns=[\"word\", \"x\", \"y\"]\n",
    ")"
   ]
  },
  {
   "cell_type": "code",
   "execution_count": null,
   "metadata": {
    "collapsed": true
   },
   "outputs": [],
   "source": [
    "points.head(10)"
   ]
  },
  {
   "cell_type": "code",
   "execution_count": 73,
   "metadata": {
    "collapsed": true
   },
   "outputs": [],
   "source": [
    "sns.set_context(\"poster\")"
   ]
  },
  {
   "cell_type": "code",
   "execution_count": null,
   "metadata": {
    "collapsed": true
   },
   "outputs": [],
   "source": [
    "points.plot.scatter(\"x\", \"y\", s=10, figsize=(20, 12))"
   ]
  },
  {
   "cell_type": "markdown",
   "metadata": {},
   "source": [
    "### Zoom in to some interesting places"
   ]
  },
  {
   "cell_type": "code",
   "execution_count": 70,
   "metadata": {
    "collapsed": true
   },
   "outputs": [],
   "source": [
    "def plot_region(x_bounds, y_bounds):\n",
    "    slice = points[\n",
    "        (x_bounds[0] <= points.x) &\n",
    "        (points.x <= x_bounds[1]) & \n",
    "        (y_bounds[0] <= points.y) &\n",
    "        (points.y <= y_bounds[1])\n",
    "    ]\n",
    "    \n",
    "    ax = slice.plot.scatter(\"x\", \"y\", s=35, figsize=(10, 8))\n",
    "    for i, point in slice.iterrows():\n",
    "        ax.text(point.x + 0.005, point.y + 0.005, point.word, fontsize=11)"
   ]
  },
  {
   "cell_type": "markdown",
   "metadata": {},
   "source": [
    "### People related to kingsguard ended up together"
   ]
  },
  {
   "cell_type": "code",
   "execution_count": 71,
   "metadata": {
    "collapsed": false
   },
   "outputs": [
    {
     "data": {
      "image/png": "[encoded data removed]",
      "text/plain": [
       "<matplotlib.figure.Figure at 0x1f4c8eba5f8>"
      ]
     },
     "metadata": {},
     "output_type": "display_data"
    }
   ],
   "source": [
    "plot_region(x_bounds=(4.0, 4.2), y_bounds=(-0.5, -0.1))"
   ]
  },
  {
   "cell_type": "markdown",
   "metadata": {},
   "source": [
    "### Food products are grouped nicely as well. Aerys (The Mad King) being close to \"roasted\" also looks sadly correct"
   ]
  },
  {
   "cell_type": "code",
   "execution_count": 72,
   "metadata": {
    "collapsed": false
   },
   "outputs": [
    {
     "data": {
      "image/png": "[encoded data removed]",
      "text/plain": [
       "<matplotlib.figure.Figure at 0x1f4c90b7ba8>"
      ]
     },
     "metadata": {},
     "output_type": "display_data"
    }
   ],
   "source": [
    "plot_region(x_bounds=(0, 1), y_bounds=(4, 4.5))"
   ]
  },
  {
   "cell_type": "markdown",
   "metadata": {},
   "source": [
    "## Explore Semantic similarities between book characters\n",
    "#### Words closest to the given word"
   ]
  },
  {
   "cell_type": "code",
   "execution_count": 64,
   "metadata": {
    "collapsed": false
   },
   "outputs": [
    {
     "name": "stderr",
     "output_type": "stream",
     "text": [
      "2017-02-07 01:24:00,340 : INFO : precomputing L2-norms of word weight vectors\n"
     ]
    },
    {
     "data": {
      "text/plain": [
       "[('Eddard', 0.6308984756469727),\n",
       " ('executed', 0.5320780277252197),\n",
       " ('Winterfell', 0.5065922141075134),\n",
       " ('divulge', 0.4952762722969055),\n",
       " ('beheaded', 0.4930848181247711),\n",
       " ('Horseface', 0.48589617013931274),\n",
       " ('Underfoot', 0.48548924922943115),\n",
       " ('Lyanna', 0.48130297660827637),\n",
       " ('Edrick', 0.4799652695655823),\n",
       " ('interred', 0.47928279638290405)]"
      ]
     },
     "execution_count": 64,
     "metadata": {},
     "output_type": "execute_result"
    }
   ],
   "source": [
    "thrones2vec.most_similar(\"Stark\")"
   ]
  },
  {
   "cell_type": "code",
   "execution_count": 65,
   "metadata": {
    "collapsed": false
   },
   "outputs": [
    {
     "data": {
      "text/plain": [
       "[('Jaehaerys', 0.6516528129577637),\n",
       " ('II', 0.6314643621444702),\n",
       " ('Conciliator', 0.5958932638168335),\n",
       " ('Beggar', 0.5853813290596008),\n",
       " ('Maekar', 0.5814269781112671),\n",
       " ('Daeron', 0.5779057741165161),\n",
       " ('Unworthy', 0.5752131342887878),\n",
       " ('Unlikely', 0.5683143734931946),\n",
       " ('Defiance', 0.5642197132110596),\n",
       " ('appointment', 0.5637978315353394)]"
      ]
     },
     "execution_count": 65,
     "metadata": {},
     "output_type": "execute_result"
    }
   ],
   "source": [
    "thrones2vec.most_similar(\"Aerys\")"
   ]
  },
  {
   "cell_type": "code",
   "execution_count": 66,
   "metadata": {
    "collapsed": false
   },
   "outputs": [
    {
     "data": {
      "text/plain": [
       "[('wolf', 0.5764026045799255),\n",
       " ('Ghost', 0.5749467611312866),\n",
       " ('pup', 0.5337972640991211),\n",
       " ('GHOST', 0.5297741889953613),\n",
       " ('SHAGGYDOG', 0.5246356129646301),\n",
       " ('muzzle', 0.5147607326507568),\n",
       " ('Rickon', 0.5021825432777405),\n",
       " ('snarling', 0.4967411756515503),\n",
       " ('Shaggydog', 0.4817216694355011),\n",
       " ('albino', 0.4805339574813843)]"
      ]
     },
     "execution_count": 66,
     "metadata": {},
     "output_type": "execute_result"
    }
   ],
   "source": [
    "thrones2vec.most_similar(\"direwolf\")"
   ]
  },
  {
   "cell_type": "markdown",
   "metadata": {},
   "source": [
    "### Linear relationships between word pairs"
   ]
  },
  {
   "cell_type": "code",
   "execution_count": 67,
   "metadata": {
    "collapsed": true
   },
   "outputs": [],
   "source": [
    "def nearest_similarity_cosmul(start1, end1, end2):\n",
    "    similarities = thrones2vec.most_similar_cosmul(\n",
    "        positive=[end2, start1],\n",
    "        negative=[end1]\n",
    "    )\n",
    "    start2 = similarities[0][0]\n",
    "    print(\"{start1} is related to {end1}, as {start2} is related to {end2}\".format(**locals()))\n",
    "    return start2"
   ]
  },
  {
   "cell_type": "code",
   "execution_count": 68,
   "metadata": {
    "collapsed": false
   },
   "outputs": [
    {
     "name": "stdout",
     "output_type": "stream",
     "text": [
      "Stark is related to Winterfell, as Tully is related to Riverrun\n",
      "Jaime is related to sword, as mulled is related to wine\n",
      "Arya is related to Nymeria, as prophecies is related to dragons\n"
     ]
    },
    {
     "data": {
      "text/plain": [
       "'prophecies'"
      ]
     },
     "execution_count": 68,
     "metadata": {},
     "output_type": "execute_result"
    }
   ],
   "source": [
    "nearest_similarity_cosmul(\"Stark\", \"Winterfell\", \"Riverrun\")\n",
    "nearest_similarity_cosmul(\"Jaime\", \"sword\", \"wine\")\n",
    "nearest_similarity_cosmul(\"Arya\", \"Nymeria\", \"dragons\")"
   ]
  },
  {
   "cell_type": "code",
   "execution_count": null,
   "metadata": {
    "collapsed": true
   },
   "outputs": [],
   "source": []
  }
 ],
 "metadata": {
  "kernelspec": {
   "display_name": "Python 3",
   "language": "python",
   "name": "python3"
  },
  "language_info": {
   "codemirror_mode": {
    "name": "ipython",
    "version": 3
   },
   "file_extension": ".py",
   "mimetype": "text/x-python",
   "name": "python",
   "nbconvert_exporter": "python",
   "pygments_lexer": "ipython3",
   "version": "3.5.2"
  }
 },
 "nbformat": 4,
 "nbformat_minor": 2
}
