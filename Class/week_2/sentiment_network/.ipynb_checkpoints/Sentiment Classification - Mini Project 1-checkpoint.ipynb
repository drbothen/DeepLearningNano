{
 "cells": [
  {
   "cell_type": "markdown",
   "metadata": {},
   "source": [
    "# Sentiment Classification & How To \"Frame Problems\" for a Neural Network\n",
    "\n",
    "by Andrew Trask\n",
    "\n",
    "- **Twitter**: @iamtrask\n",
    "- **Blog**: http://iamtrask.github.io"
   ]
  },
  {
   "cell_type": "markdown",
   "metadata": {},
   "source": [
    "### What You Should Already Know\n",
    "\n",
    "- neural networks, forward and back-propagation\n",
    "- stochastic gradient descent\n",
    "- mean squared error\n",
    "- and train/test splits\n",
    "\n",
    "### Where to Get Help if You Need it\n",
    "- Re-watch previous Udacity Lectures\n",
    "- Leverage the recommended Course Reading Material - [Grokking Deep Learning](https://www.manning.com/books/grokking-deep-learning) (40% Off: **traskud17**)\n",
    "- Shoot me a tweet @iamtrask\n",
    "\n",
    "\n",
    "### Tutorial Outline:\n",
    "\n",
    "- Intro: The Importance of \"Framing a Problem\"\n",
    "\n",
    "\n",
    "- Curate a Dataset\n",
    "- Developing a \"Predictive Theory\"\n",
    "- **PROJECT 1**: Quick Theory Validation\n",
    "\n",
    "\n",
    "- Transforming Text to Numbers\n",
    "- **PROJECT 2**: Creating the Input/Output Data\n",
    "\n",
    "\n",
    "- Putting it all together in a Neural Network\n",
    "- **PROJECT 3**: Building our Neural Network\n",
    "\n",
    "\n",
    "- Understanding Neural Noise\n",
    "- **PROJECT 4**: Making Learning Faster by Reducing Noise\n",
    "\n",
    "\n",
    "- Analyzing Inefficiencies in our Network\n",
    "- **PROJECT 5**: Making our Network Train and Run Faster\n",
    "\n",
    "\n",
    "- Further Noise Reduction\n",
    "- **PROJECT 6**: Reducing Noise by Strategically Reducing the Vocabulary\n",
    "\n",
    "\n",
    "- Analysis: What's going on in the weights?"
   ]
  },
  {
   "cell_type": "markdown",
   "metadata": {
    "nbpresent": {
     "id": "56bb3cba-260c-4ebe-9ed6-b995b4c72aa3"
    }
   },
   "source": [
    "# Lesson: Curate a Dataset"
   ]
  },
  {
   "cell_type": "code",
   "execution_count": 4,
   "metadata": {
    "collapsed": false,
    "nbpresent": {
     "id": "eba2b193-0419-431e-8db9-60f34dd3fe83"
    }
   },
   "outputs": [],
   "source": [
    "def pretty_print_review_and_label(i):\n",
    "    print(labels[i] + \"\\t:\\t\" + reviews[i][:80] + \"...\")\n",
    "\n",
    "g = open('reviews.txt','r') # What we know!\n",
    "reviews = list(map(lambda x:x[:-1],g.readlines()))\n",
    "g.close()\n",
    "\n",
    "g = open('labels.txt','r') # What we WANT to know!\n",
    "labels = list(map(lambda x:x[:-1].upper(),g.readlines()))\n",
    "g.close()"
   ]
  },
  {
   "cell_type": "code",
   "execution_count": 2,
   "metadata": {
    "collapsed": false
   },
   "outputs": [
    {
     "data": {
      "text/plain": [
       "25000"
      ]
     },
     "execution_count": 2,
     "metadata": {},
     "output_type": "execute_result"
    }
   ],
   "source": [
    "len(reviews)"
   ]
  },
  {
   "cell_type": "code",
   "execution_count": 5,
   "metadata": {
    "collapsed": false,
    "nbpresent": {
     "id": "bb95574b-21a0-4213-ae50-34363cf4f87f"
    }
   },
   "outputs": [
    {
     "data": {
      "text/plain": [
       "'bromwell high is a cartoon comedy . it ran at the same time as some other programs about school life  such as  teachers  . my   years in the teaching profession lead me to believe that bromwell high  s satire is much closer to reality than is  teachers  . the scramble to survive financially  the insightful students who can see right through their pathetic teachers  pomp  the pettiness of the whole situation  all remind me of the schools i knew and their students . when i saw the episode in which a student repeatedly tried to burn down the school  i immediately recalled . . . . . . . . . at . . . . . . . . . . high . a classic line inspector i  m here to sack one of your teachers . student welcome to bromwell high . i expect that many adults of my age think that bromwell high is far fetched . what a pity that it isn  t   '"
      ]
     },
     "execution_count": 5,
     "metadata": {},
     "output_type": "execute_result"
    }
   ],
   "source": [
    "reviews[0]"
   ]
  },
  {
   "cell_type": "code",
   "execution_count": 6,
   "metadata": {
    "collapsed": false,
    "nbpresent": {
     "id": "e0408810-c424-4ed4-afb9-1735e9ddbd0a"
    }
   },
   "outputs": [
    {
     "data": {
      "text/plain": [
       "'POSITIVE'"
      ]
     },
     "execution_count": 6,
     "metadata": {},
     "output_type": "execute_result"
    }
   ],
   "source": [
    "labels[0]"
   ]
  },
  {
   "cell_type": "markdown",
   "metadata": {},
   "source": [
    "# Lesson: Develop a Predictive Theory"
   ]
  },
  {
   "cell_type": "code",
   "execution_count": 7,
   "metadata": {
    "collapsed": false,
    "nbpresent": {
     "id": "e67a709f-234f-4493-bae6-4fb192141ee0"
    }
   },
   "outputs": [
    {
     "name": "stdout",
     "output_type": "stream",
     "text": [
      "labels.txt \t : \t reviews.txt\n",
      "\n",
      "NEGATIVE\t:\tthis movie is terrible but it has some good effects .  ...\n",
      "POSITIVE\t:\tadrian pasdar is excellent is this film . he makes a fascinating woman .  ...\n",
      "NEGATIVE\t:\tcomment this movie is impossible . is terrible  very improbable  bad interpretat...\n",
      "POSITIVE\t:\texcellent episode movie ala pulp fiction .  days   suicides . it doesnt get more...\n",
      "NEGATIVE\t:\tif you haven  t seen this  it  s terrible . it is pure trash . i saw this about ...\n",
      "POSITIVE\t:\tthis schiffer guy is a real genius  the movie is of excellent quality and both e...\n"
     ]
    }
   ],
   "source": [
    "print(\"labels.txt \\t : \\t reviews.txt\\n\")\n",
    "pretty_print_review_and_label(2137)\n",
    "pretty_print_review_and_label(12816)\n",
    "pretty_print_review_and_label(6267)\n",
    "pretty_print_review_and_label(21934)\n",
    "pretty_print_review_and_label(5297)\n",
    "pretty_print_review_and_label(4998)"
   ]
  },
  {
   "cell_type": "markdown",
   "metadata": {},
   "source": [
    "### Dependices\n",
    "\n",
    "From [collections](https://docs.python.org/2/library/collections.html) we import Counter. Counter tool is used to support convenient and rapid tallies\n",
    "\n",
    "We import numpy for math functions: log"
   ]
  },
  {
   "cell_type": "code",
   "execution_count": 1,
   "metadata": {
    "collapsed": true
   },
   "outputs": [],
   "source": [
    "from collections import Counter\n",
    "import numpy as np"
   ]
  },
  {
   "cell_type": "markdown",
   "metadata": {},
   "source": [
    "### Globals\n",
    "\n",
    "We define holding variables and use the Counter tool"
   ]
  },
  {
   "cell_type": "code",
   "execution_count": 2,
   "metadata": {
    "collapsed": true
   },
   "outputs": [],
   "source": [
    "positive_counts = Counter() # Holds the words and counts for positive reviews\n",
    "negative_counts = Counter() # Holds the words and counts for negative reviews\n",
    "total_counts = Counter() # holds words and conts for ALL reviews\n",
    "\n",
    "pos_neg_ratios = Counter() # this will be used later for ratios"
   ]
  },
  {
   "cell_type": "markdown",
   "metadata": {},
   "source": [
    "### Loop through the reviews\n",
    "\n",
    "We now loop through each review, split into words and increment the counter"
   ]
  },
  {
   "cell_type": "code",
   "execution_count": 6,
   "metadata": {
    "collapsed": false
   },
   "outputs": [],
   "source": [
    "for i in range(len(reviews)):\n",
    "    if(labels[i] == 'POSITIVE'):\n",
    "        for word in reviews[i].split(\" \"):\n",
    "            positive_counts[word] += 1\n",
    "            total_counts[word] += 1\n",
    "    else:\n",
    "        for word in reviews[i].split(\" \"):\n",
    "            negative_counts[word] += 1\n",
    "            total_counts[word] += 1"
   ]
  },
  {
   "cell_type": "markdown",
   "metadata": {},
   "source": [
    "### Output the most common positive words\n",
    "\n",
    "We want to look breifly at the data. We printout the most common words (positive, negative, total) using <variable>.most_common()"
   ]
  },
  {
   "cell_type": "code",
   "execution_count": 7,
   "metadata": {
    "collapsed": false
   },
   "outputs": [
    {
     "data": {
      "text/plain": [
       "[('', 1100936),\n",
       " ('the', 346648),\n",
       " ('.', 319308),\n",
       " ('and', 179444),\n",
       " ('a', 167376),\n",
       " ('of', 153710),\n",
       " ('to', 133492),\n",
       " ('is', 114490),\n",
       " ('in', 100430),\n",
       " ('br', 98470),\n",
       " ('it', 96050),\n",
       " ('i', 81486),\n",
       " ('that', 71260),\n",
       " ('this', 70160),\n",
       " ('s', 67630),\n",
       " ('as', 52616),\n",
       " ('with', 46494),\n",
       " ('for', 44832),\n",
       " ('was', 43834),\n",
       " ('film', 41874),\n",
       " ('but', 41644),\n",
       " ('movie', 38148),\n",
       " ('his', 34454),\n",
       " ('on', 34016),\n",
       " ('you', 33362),\n",
       " ('he', 32564),\n",
       " ('are', 29614),\n",
       " ('not', 28544),\n",
       " ('t', 27440),\n",
       " ('one', 27310)]"
      ]
     },
     "execution_count": 7,
     "metadata": {},
     "output_type": "execute_result"
    }
   ],
   "source": [
    "positive_counts.most_common()[0:30]"
   ]
  },
  {
   "cell_type": "code",
   "execution_count": 8,
   "metadata": {
    "collapsed": false
   },
   "outputs": [
    {
     "data": {
      "text/plain": [
       "[('', 1122924),\n",
       " ('.', 335076),\n",
       " ('the', 326778),\n",
       " ('a', 158642),\n",
       " ('and', 148770),\n",
       " ('of', 138018),\n",
       " ('to', 137948),\n",
       " ('br', 105274),\n",
       " ('is', 100166),\n",
       " ('it', 96654),\n",
       " ('i', 93760),\n",
       " ('in', 87506),\n",
       " ('this', 81840),\n",
       " ('that', 75230),\n",
       " ('s', 63092),\n",
       " ('was', 52582),\n",
       " ('movie', 49930),\n",
       " ('for', 43854),\n",
       " ('but', 43562),\n",
       " ('with', 41756),\n",
       " ('as', 41250),\n",
       " ('t', 40722),\n",
       " ('film', 38436),\n",
       " ('you', 35098),\n",
       " ('on', 34384),\n",
       " ('not', 32708),\n",
       " ('have', 30288),\n",
       " ('are', 29246),\n",
       " ('be', 29082),\n",
       " ('he', 27712)]"
      ]
     },
     "execution_count": 8,
     "metadata": {},
     "output_type": "execute_result"
    }
   ],
   "source": [
    "negative_counts.most_common()[0:30]"
   ]
  },
  {
   "cell_type": "code",
   "execution_count": 9,
   "metadata": {
    "collapsed": false
   },
   "outputs": [
    {
     "data": {
      "text/plain": [
       "[('', 2223860),\n",
       " ('the', 673426),\n",
       " ('.', 654384),\n",
       " ('and', 328214),\n",
       " ('a', 326018),\n",
       " ('of', 291728),\n",
       " ('to', 271440),\n",
       " ('is', 214656),\n",
       " ('br', 203744),\n",
       " ('it', 192704),\n",
       " ('in', 187936),\n",
       " ('i', 175246),\n",
       " ('this', 152000),\n",
       " ('that', 146490),\n",
       " ('s', 130722),\n",
       " ('was', 96416),\n",
       " ('as', 93866),\n",
       " ('for', 88686),\n",
       " ('with', 88250),\n",
       " ('movie', 88078),\n",
       " ('but', 85206),\n",
       " ('film', 80310),\n",
       " ('you', 68460),\n",
       " ('on', 68400),\n",
       " ('t', 68162),\n",
       " ('not', 61252),\n",
       " ('he', 60276),\n",
       " ('are', 58860),\n",
       " ('his', 58748),\n",
       " ('have', 55462)]"
      ]
     },
     "execution_count": 9,
     "metadata": {},
     "output_type": "execute_result"
    }
   ],
   "source": [
    "total_counts.most_common()[0:30]"
   ]
  },
  {
   "cell_type": "markdown",
   "metadata": {},
   "source": [
    "### We now calculate the ratio of postive to negative words"
   ]
  },
  {
   "cell_type": "code",
   "execution_count": 10,
   "metadata": {
    "collapsed": true
   },
   "outputs": [],
   "source": [
    "for term,cnt in list(total_counts.most_common()):\n",
    "    if(cnt > 100):\n",
    "        pos_neg_ratio = positive_counts[term] / float(negative_counts[term]+1)\n",
    "        pos_neg_ratios[term] = pos_neg_ratio\n",
    "\n",
    "for word,ratio in pos_neg_ratios.most_common():\n",
    "    if(ratio > 1):\n",
    "        pos_neg_ratios[word] = np.log(ratio)\n",
    "    else:\n",
    "        pos_neg_ratios[word] = -np.log((1 / (ratio+0.01)))"
   ]
  },
  {
   "cell_type": "markdown",
   "metadata": {},
   "source": [
    "### Words Most seen in a postive review"
   ]
  },
  {
   "cell_type": "code",
   "execution_count": 11,
   "metadata": {
    "collapsed": false
   },
   "outputs": [
    {
     "data": {
      "text/plain": [
       "[('edie', 5.3844950627890888),\n",
       " ('antwone', 5.1704839950381514),\n",
       " ('din', 5.0998664278241987),\n",
       " ('gunga', 4.8828019225863706),\n",
       " ('goldsworthy', 4.8675344504555822),\n",
       " ('yokai', 4.7874917427820458),\n",
       " ('gypo', 4.7874917427820458),\n",
       " ('visconti', 4.6249728132842707),\n",
       " ('flavia', 4.6249728132842707),\n",
       " ('paulie', 4.3652195163575005),\n",
       " ('gundam', 3.6054978451748854),\n",
       " ('iturbi', 3.5648268054439574),\n",
       " ('felix', 3.2580965380214821),\n",
       " ('capote', 3.1945831322991562),\n",
       " ('excellently', 3.1612467120315646),\n",
       " ('fido', 3.1416861861770706),\n",
       " ('deanna', 3.1090609588609941),\n",
       " ('hayworth', 3.1090609588609941),\n",
       " ('vance', 3.077970371790963),\n",
       " ('kolchak', 3.0647251450409425),\n",
       " ('sammo', 3.0349529867072724),\n",
       " ('laputa', 3.0155349008501706),\n",
       " ('sox', 2.9667447366807385),\n",
       " ('alvin', 2.9519296508955981),\n",
       " ('biko', 2.9385738597140425),\n",
       " ('polanski', 2.9103724246028344),\n",
       " ('mathieu', 2.9061201148643039),\n",
       " ('matthau', 2.8638801424491884),\n",
       " ('gilliam', 2.8581108956779433),\n",
       " ('harriet', 2.7725887222397811)]"
      ]
     },
     "execution_count": 11,
     "metadata": {},
     "output_type": "execute_result"
    }
   ],
   "source": [
    "pos_neg_ratios.most_common()[0:30]"
   ]
  },
  {
   "cell_type": "markdown",
   "metadata": {},
   "source": [
    "### Words most seen in a negative review\n",
    "\n",
    "this will be the reverse of the pos_neg_ratios "
   ]
  },
  {
   "cell_type": "code",
   "execution_count": 13,
   "metadata": {
    "collapsed": false
   },
   "outputs": [
    {
     "data": {
      "text/plain": [
       "[('boll', -4.0763882786651227),\n",
       " ('uwe', -3.9194396030831955),\n",
       " ('thunderbirds', -3.6397022181378524),\n",
       " ('beowulf', -3.6295196084548165),\n",
       " ('dahmer', -3.5511512728628007),\n",
       " ('wayans', -3.5131804380804752),\n",
       " ('seagal', -3.3178813486436498),\n",
       " ('gamera', -3.0783307970967213),\n",
       " ('dreck', -3.0320527378989506),\n",
       " ('unwatchable', -3.0231580865348979),\n",
       " ('stinker', -2.9836231447642416),\n",
       " ('mst', -2.7729386376804541),\n",
       " ('incoherent', -2.7609457389729286),\n",
       " ('flimsy', -2.7480279574971846),\n",
       " ('dillinger', -2.667782815794761),\n",
       " ('yawn', -2.6571141133625016),\n",
       " ('unfunny', -2.5527880775662997),\n",
       " ('waste', -2.490427936954779),\n",
       " ('ugh', -2.4841729740397565),\n",
       " ('turd', -2.4841729740397565),\n",
       " ('blah', -2.4451592049923065),\n",
       " ('slugs', -2.4341766208007418),\n",
       " ('tripe', -2.3777546363727264),\n",
       " ('horrid', -2.3674337397349707),\n",
       " ('wtf', -2.3641029707876955),\n",
       " ('pointless', -2.3441458135812723),\n",
       " ('atrocious', -2.3162514610431946),\n",
       " ('damme', -2.2993644782940037),\n",
       " ('redeeming', -2.2652667164185862),\n",
       " ('prom', -2.2558281386067116)]"
      ]
     },
     "execution_count": 13,
     "metadata": {},
     "output_type": "execute_result"
    }
   ],
   "source": [
    "list(reversed(pos_neg_ratios.most_common()))[0:30]"
   ]
  },
  {
   "cell_type": "markdown",
   "metadata": {},
   "source": [
    "### Conclusion\n",
    "\n",
    "We can tell after adjusting our cnt parameter that our theory is correct, that you can corolate specific words to positive and negative reviews"
   ]
  }
 ],
 "metadata": {
  "anaconda-cloud": {},
  "kernelspec": {
   "display_name": "Python 3",
   "language": "python",
   "name": "python3"
  },
  "language_info": {
   "codemirror_mode": {
    "name": "ipython",
    "version": 3
   },
   "file_extension": ".py",
   "mimetype": "text/x-python",
   "name": "python",
   "nbconvert_exporter": "python",
   "pygments_lexer": "ipython3",
   "version": "3.5.2"
  }
 },
 "nbformat": 4,
 "nbformat_minor": 1
}
